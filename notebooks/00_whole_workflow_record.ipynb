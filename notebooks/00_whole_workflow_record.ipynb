{
 "cells": [
  {
   "cell_type": "markdown",
   "id": "3ae98b7f-86d6-4fcf-b94c-c8106220aa81",
   "metadata": {},
   "source": [
    "## Remarks\n",
    "- This notebooks records all attempts made during the thesis extensional exploration progress.\n",
    "\n",
    "- My final goal is to identify key residues on the loop and find interactions with ligands and simulate the dynamic state of loop and reveal the truth of bewteen enzymatic specificity and novel structural loop. I hope to gain skills and experience in protein exploration using programming skills, bioinformatic tools. I believe this continuous learning journey will equip me with more solid knowledge and experience in protein engineering and bioinformatics.\n",
    "\n",
    "- This program is being updated and modified.\n",
    "\n",
    "- **I would be truly grateful if you have any advice or correction or recommendation for my program or anything you think you need to point out. I appreciate the valuable and kind help and hope you all the best!**\n",
    "\n",
    "- The notebook number is the order that I implement or learn each tool for protein exploration."
   ]
  },
  {
   "cell_type": "markdown",
   "id": "15208f11-db8e-49ce-842a-6811d97e03c8",
   "metadata": {},
   "source": [
    "## 1. Structure prediction\n",
    "- using colabfold (alphafold)\n",
    "- using Swiss Model\n",
    "- get the most reliable predictive structure for further functional analysis and dynamic simulations.\n",
    "\n",
    "- results saved in [results/protein_prediction]"
   ]
  },
  {
   "cell_type": "markdown",
   "id": "b32621e3-4f1b-4fc4-a865-5ef102f0ea34",
   "metadata": {},
   "source": [
    "## 2. DeepFRI\n",
    "- functional prediction using DeepFRI driven by deep learning architechtures\n",
    "- locate relevant residues for hydrolysis activity and related functions\n",
    "- map functions to structural regions and residues\n",
    "\n",
    "- results saved in [results/deepfri]"
   ]
  },
  {
   "cell_type": "markdown",
   "id": "88b2cba2-7b33-4dfb-8e78-9d9433213b01",
   "metadata": {},
   "source": [
    "## 3. Consurf\n",
    "- analyze conserved regions and residues\n",
    "- evaluate the conservation and function of loop region\n",
    "\n",
    "- results saved in [results/consurf]"
   ]
  },
  {
   "cell_type": "markdown",
   "id": "298649e1-3603-4f21-b5d3-dac896a75692",
   "metadata": {},
   "source": [
    "## 4. IUPred3\n",
    "- disorder state prediction\n",
    "- analyze the loop and access potential binding function\n",
    "\n",
    "- results saved in [results/IUPred3]"
   ]
  },
  {
   "cell_type": "markdown",
   "id": "e9650417-7f66-47ac-b363-35ae8f5f840f",
   "metadata": {},
   "source": [
    "## 5. fPocket\n",
    "- analyze possible pockets of target enzymes\n",
    "- analyze the distance between pockets and loop\n",
    "- loop could be a lid to the catalytic tunnel\n",
    "  \n",
    "- results saved in [results/fpocket]"
   ]
  },
  {
   "cell_type": "markdown",
   "id": "2b355062-8ca8-4624-94f5-64eee0d58019",
   "metadata": {},
   "source": [
    "## 6. openMM (in progress)\n",
    "- MD simulations of target enzymes in vaccum\n",
    "- results saved in [results/openmm]\n",
    "\n",
    "- MD for CcDex and MrDex (to be done)"
   ]
  },
  {
   "cell_type": "markdown",
   "id": "8a057975-477c-4696-8270-608f3eae72e0",
   "metadata": {},
   "source": [
    "## 7. dock and rerun openMM (in progress)\n",
    "- dock ligand IG3 to protein receptor\n",
    "- evaluate interactions between the ligand and the loop region as well as catalytic residues.\n",
    "   \n",
    "- results saved in [results/vina]\n",
    "  \n",
    "To be done:\n",
    "- Stability analysis\n",
    "- Interaction analysis\n",
    "- Binding energy analysis"
   ]
  },
  {
   "cell_type": "markdown",
   "id": "03c84da5-9183-47d7-956f-2556a4d14db3",
   "metadata": {},
   "source": [
    "## 8. Mutation (to be done) \n",
    "- use FoldX to mutate the loop to see if binding stability changes"
   ]
  },
  {
   "cell_type": "code",
   "execution_count": null,
   "id": "545584ec-34db-4c17-856b-b3ea5533e32f",
   "metadata": {},
   "outputs": [],
   "source": []
  }
 ],
 "metadata": {
  "kernelspec": {
   "display_name": "Python 3 (ipykernel)",
   "language": "python",
   "name": "python3"
  },
  "language_info": {
   "codemirror_mode": {
    "name": "ipython",
    "version": 3
   },
   "file_extension": ".py",
   "mimetype": "text/x-python",
   "name": "python",
   "nbconvert_exporter": "python",
   "pygments_lexer": "ipython3",
   "version": "3.10.18"
  }
 },
 "nbformat": 4,
 "nbformat_minor": 5
}
