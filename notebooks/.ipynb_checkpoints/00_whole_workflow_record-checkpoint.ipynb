{
 "cells": [
  {
   "cell_type": "markdown",
   "id": "3ae98b7f-86d6-4fcf-b94c-c8106220aa81",
   "metadata": {},
   "source": [
    "This notebooks records all afforts that are made during the extension exploration period.\n",
    "\n",
    "My final goal is to identify key residues on the loop and find interactions with ligands and simulate the dynamic state of loop and reveal the truth of bewteen enzymatic specificity and novel structural loop. I hope to gain skills and experience in protein exploration using programming skills, bioinformatic tools. I believe this continuous journey will equip me with more solid knowledge and "
   ]
  },
  {
   "cell_type": "markdown",
   "id": "93c48b12-dc3a-44e7-98e7-d8ae73e647df",
   "metadata": {},
   "source": [
    "This notebooks records all afforts that are made during the extension exploration period."
   ]
  },
  {
   "cell_type": "markdown",
   "id": "15208f11-db8e-49ce-842a-6811d97e03c8",
   "metadata": {},
   "source": [
    "1. Structure prediction\n",
    "- using colabfold (alphafold)\n",
    "- using Swiss Model\n",
    "- get the most reliable predictive structure for further functional analysis and dynamic simulations."
   ]
  },
  {
   "cell_type": "code",
   "execution_count": null,
   "id": "0cd6cec1-01e6-46d7-9aa3-edce0804bde2",
   "metadata": {},
   "outputs": [],
   "source": []
  },
  {
   "cell_type": "markdown",
   "id": "b32621e3-4f1b-4fc4-a865-5ef102f0ea34",
   "metadata": {},
   "source": [
    "2. DeepFRI\n",
    "- functional prediction using DeepFRI driven by deep learning architechtures\n",
    "- locate relevant residues for hydrolysis activity and related functions\n",
    "- map functions to structural regions and residues"
   ]
  },
  {
   "cell_type": "code",
   "execution_count": null,
   "id": "3fd36a1d-15d1-4bfc-bb7e-e2285f66bdcf",
   "metadata": {},
   "outputs": [],
   "source": []
  },
  {
   "cell_type": "markdown",
   "id": "88b2cba2-7b33-4dfb-8e78-9d9433213b01",
   "metadata": {},
   "source": [
    "3. Consurf\n",
    "- analyze conserved regions and residues "
   ]
  },
  {
   "cell_type": "code",
   "execution_count": null,
   "id": "2b0670bd-c7b6-4913-8b08-d7648e2c0012",
   "metadata": {},
   "outputs": [],
   "source": []
  },
  {
   "cell_type": "markdown",
   "id": "298649e1-3603-4f21-b5d3-dac896a75692",
   "metadata": {},
   "source": [
    "4. IUPred3\n",
    "- disorder state prediction\n",
    "- analyze the loop and access potential binding function"
   ]
  },
  {
   "cell_type": "code",
   "execution_count": null,
   "id": "1fc6080f-3a67-460e-b32b-4b0641882f42",
   "metadata": {},
   "outputs": [],
   "source": []
  },
  {
   "cell_type": "markdown",
   "id": "e9650417-7f66-47ac-b363-35ae8f5f840f",
   "metadata": {},
   "source": [
    "5. fPocket\n",
    "- analyze possible pockets of target enzymes\n",
    "- analyze the distance between pockets and loop\n",
    "- loop could be a lid to the catalytic tunnel"
   ]
  },
  {
   "cell_type": "code",
   "execution_count": null,
   "id": "bddbe382-3fff-4cf5-9e35-014ea82087a4",
   "metadata": {},
   "outputs": [],
   "source": []
  },
  {
   "cell_type": "markdown",
   "id": "2b355062-8ca8-4624-94f5-64eee0d58019",
   "metadata": {},
   "source": [
    "6. openMM\n",
    "- dynamic analysis of loop"
   ]
  },
  {
   "cell_type": "code",
   "execution_count": null,
   "id": "c8c1bbf8-ba71-4cb1-88cf-625f6b503787",
   "metadata": {},
   "outputs": [],
   "source": []
  },
  {
   "cell_type": "markdown",
   "id": "03c84da5-9183-47d7-956f-2556a4d14db3",
   "metadata": {},
   "source": [
    "7. (to be done) "
   ]
  },
  {
   "cell_type": "code",
   "execution_count": null,
   "id": "545584ec-34db-4c17-856b-b3ea5533e32f",
   "metadata": {},
   "outputs": [],
   "source": []
  }
 ],
 "metadata": {
  "kernelspec": {
   "display_name": "Python 3 (ipykernel)",
   "language": "python",
   "name": "python3"
  },
  "language_info": {
   "codemirror_mode": {
    "name": "ipython",
    "version": 3
   },
   "file_extension": ".py",
   "mimetype": "text/x-python",
   "name": "python",
   "nbconvert_exporter": "python",
   "pygments_lexer": "ipython3",
   "version": "3.10.18"
  }
 },
 "nbformat": 4,
 "nbformat_minor": 5
}
