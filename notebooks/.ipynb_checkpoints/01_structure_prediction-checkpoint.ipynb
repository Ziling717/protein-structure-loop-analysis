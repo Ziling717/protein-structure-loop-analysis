{
 "cells": [
  {
   "cell_type": "markdown",
   "id": "4a8bffce-7737-455e-919a-e43509f51c8b",
   "metadata": {},
   "source": [
    "## 1. Structure Prediction"
   ]
  },
  {
   "cell_type": "markdown",
   "id": "70413a0f-8116-46fd-846b-f75af98326f5",
   "metadata": {},
   "source": [
    "### 1.1 Introduction\n",
    "- Goal: predict structures of target enzymes for the basis of functional analyses.\n",
    "- Tools:\n",
    "  - ColabFold (Alphafold2-based): driven by deep learning, can be deployed locally or implemented online.\n",
    "  - SwissModel: Homology modeling, relied on templates."
   ]
  },
  {
   "cell_type": "markdown",
   "id": "2493172b-5e70-49e6-84d3-3d0ea651fd2c",
   "metadata": {},
   "source": [
    "### 1.2 Target enzymes information\n",
    "- **BfIMTD**: An exo-dextranase, the primary target enzyme in this study, possess a novel loop region outside the catalytic tunnel to be explored computationally.\n",
    "- DexKQ: An endo-dextranase (GH49 family) used as the template enzyme for BfIMTD in homology modeling. DexKQ typically produces a mixture of isomaltooligosaccharides containing glucose. In contrast, BfIMTD shows exo-activity and specifically produces isomaltotriose (IG3), exihibiting a functional distinction between these two.\n",
    "- **CcDex** and **MrDex**: Two uncharacterized dextranases were identified from databases. Both share high sequence similarity with BfIMTD and contain similar novel loops. These candidates were mined and analyzed in my master’s thesis.\n",
    "- IPU (Isopullulanase): A related enzyme with structural similarity, included here as an additional reference for comparative analysis.\n",
    "\n",
    "- fasta files are included in [ data/fasta ]\n",
    "\n",
    "- <span style=\"color:blue\">Notes: **loop** regions were recognized during master's thesis via structure alignments. More details are included in [docs].</span>  \n"
   ]
  },
  {
   "cell_type": "markdown",
   "id": "52616013-b5e7-474d-b54e-1f36b4e8b054",
   "metadata": {},
   "source": [
    "Sequences Information Table\n",
    "\n",
    "| Enzyme | Genebank | Organism | Length(amino acid) | Loop Region | \n",
    "|:----:|:----:|----:|----:|----:|\n",
    "| BfIMTD |  BAA76382.1  |  Brevibacterium fuscum  |  641 | 392-402 |\n",
    "| DexKQ |  MK118723.1/QDQ17819.1  |  Pseudarthrobacter oxydans | 640 | - |\n",
    "| CcDex |  SDF96286  |  Cellulosimicrobium cellulans |  730 | 392-402 |\n",
    "| MrDex |  WP_087138477  |  Mycetocola reblochoni |  719 | 381-491 |\n",
    "| Isopullulanase (IPU) |  1WMR_A  |  Aspergillus niger  |  549 | - |"
   ]
  },
  {
   "cell_type": "markdown",
   "id": "5f8e78c5-2516-4df1-be22-563c0ddbc168",
   "metadata": {},
   "source": [
    "### 1.3 Practical workflow"
   ]
  },
  {
   "cell_type": "markdown",
   "id": "65f830c4-4825-4067-803c-dc2e32f9b60d",
   "metadata": {},
   "source": [
    "### ColabFold"
   ]
  },
  {
   "cell_type": "markdown",
   "id": "a360cbc0-d71d-436a-ac4d-3fd424f1fc3c",
   "metadata": {
    "jp-MarkdownHeadingCollapsed": true
   },
   "source": [
    "#### 1. Deployment attempts (notes):"
   ]
  },
  {
   "cell_type": "markdown",
   "id": "cc7857f3-e7f4-4397-9a64-bd0c90f5a40f",
   "metadata": {},
   "source": [
    "At first I tried the web version of ColabFold, but it quickly went overloaded. Then I hit some errors with jaxlib version mismatch, so I thought maybe better to switch to local deployment.\n",
    "I started with my Windows GPU (RTX 3060), tried several times to install ColabFold, but each time something wrong with environment or CUDA setup. After a few failed attempts, I decided to upgrade my system and install Ubuntu under WSL2. Managed to set up conda, install dependencies, even created the colabfold-env successfully… but still GPU not recognized, no matter how many times I reinstalled drivers or tried different CUDA versions. Got stuck in this loop for days, trying again and again, each time hoping the GPU would show up, but always ending with frustration.\n",
    "In the end, I went back to the web version once more. This time luckily it worked and I finally got the predicted structures.\n"
   ]
  },
  {
   "cell_type": "markdown",
   "id": "65005f87-0129-409c-8738-65fb3868c557",
   "metadata": {},
   "source": [
    "#### 2. Web server: \n",
    "Input the amino acid sequence, set 'num_relax = 1', keep all other options as default, and then Run all cells. All results predicted by colabfold are included in [ results/protein_prediction/colabfold ]\n"
   ]
  },
  {
   "cell_type": "markdown",
   "id": "f07c58b1-9b07-487d-b32d-be7144d3266c",
   "metadata": {},
   "source": [
    "#### 3. Extract key results after structure prediction"
   ]
  },
  {
   "cell_type": "markdown",
   "id": "d3a021d0-e92d-4b5b-b8a6-51f958c72308",
   "metadata": {},
   "source": [
    "- run \"extract_pLDDT_colab.py\" in [scripts] to extract **pLDDT** from colabfold results folders\n",
    "- input result path, target name, loop range, and fasta file to proceed"
   ]
  },
  {
   "cell_type": "code",
   "execution_count": null,
   "id": "e23a5b88-7c66-43f2-b61e-1e7572d8d7de",
   "metadata": {},
   "outputs": [],
   "source": [
    "python extract_pLDDT_colab.py"
   ]
  },
  {
   "cell_type": "markdown",
   "id": "6d6f4391-0cf9-4168-9b99-f2c268d9ee5c",
   "metadata": {},
   "source": [
    "- run \"extract_pae_colab.py\" in [scripts] to extract **pae** from colabfold results folders\n",
    "- input result path, target name, and loop range to proceed"
   ]
  },
  {
   "cell_type": "code",
   "execution_count": null,
   "id": "e2753f30-cfed-483c-8c9e-6a7e96ccb3eb",
   "metadata": {},
   "outputs": [],
   "source": [
    "python extract_pae_colab.py"
   ]
  },
  {
   "cell_type": "markdown",
   "id": "4bae8621-62df-43e6-99f8-5bef8bbacaac",
   "metadata": {},
   "source": [
    "#### <span style=\"color:green\">4. Results summary</span>  "
   ]
  },
  {
   "attachments": {},
   "cell_type": "markdown",
   "id": "5a26c382-8be1-45ec-a740-6f43fd6efe58",
   "metadata": {},
   "source": [
    "| Enzyme | Mean_pLDDT score | pLDDT ≥ 70 (%) |  pLDDT ≥ 90 (%)  | Loop Mean pLDDT | PAE_global_mean_A | PAE_loop_loop_mean_A | PAE_loop_core_mean_A | PAE_core_core_mean_A |\n",
    "|:----:|:----:|----:|----:|----:|:----:|----:|----:|----:|\n",
    "| BfIMTD | 93.3\t| 92.8  | 91.7  | 91.98 | 6.15 | 1.58 | 6.75 | 6.13\n",
    "| DexKQ | 92.17 | 92.0 | 91.1  | - | 6.78 |\n",
    "| CcDex |  92.73 | 93.7 |  91.5 | 92.09 | 7.33 | 1.52 | 7.28 | 7.33 |\n",
    "| MrDex |  92.49 | 93.7 |  89.0 | 89.25 | 7.44 | 1.96 | 8.35 | 7.41 |\n",
    "| Isopullulanase (IPU) | 95.74 | 98.5 | 92.3 | - | 4.04 |"
   ]
  },
  {
   "cell_type": "markdown",
   "id": "d361aa30-c0f5-4b3b-9042-967bf1fa22d9",
   "metadata": {},
   "source": [
    "#### ➡️ Conclusions:\n",
    "1. The mean pLDDT scores of all five relaxed models are >90, with >90% of residues above the 70 threshold. This indicates that the overall folds are highly reliable.\n",
    "\n",
    "2. For three enzymes (BfIMTD, CcDex, MrDex), the loop regions also show high mean pLDDT (>85~90), suggesting that the internal conformations of these loops are stable.\n",
    "\n",
    "3. However, the PAE values for loop_core interactions are consistently higher (6-8 Å), in contrast to loop_loop (1-2 Å). This indicates that while loops themselves are well-defined, their relative positioning to the protein core is less certain.\n",
    "\n",
    "4. <span style=\"color:green\">These results suggest that the loop regions are **flexible in relation to the core**. They might undergo restricted motions during enzymatic activity, potentially contributing to functional dynamics.</span>  "
   ]
  },
  {
   "cell_type": "markdown",
   "id": "e712239b-5544-4221-b05e-e27d061a154d",
   "metadata": {},
   "source": [
    "### Swiss Model"
   ]
  },
  {
   "cell_type": "markdown",
   "id": "92a48fc8-617c-416a-b68a-de95d4a11032",
   "metadata": {},
   "source": [
    "#### Web server: \n",
    "Input the amino acid sequence, and enter to build models.\n",
    "\n",
    "All results are included in [results/SwissModel]\n"
   ]
  },
  {
   "cell_type": "markdown",
   "id": "e517130f-685d-466a-a221-1120dbba4f02",
   "metadata": {},
   "source": [
    "| Enzyme | Template_PDB | Seq_identity_% | Coverage_% | GMQE | QMEANDisCo Global | model |\n",
    "|:----:|:----:|----:|----:|----:|----:|----:|\n",
    "| BfIMTD |  6nzs.1.A  |  85.18  | 92 | 0.88 | 0.92 ± 0.05 | 02 |\n",
    "| DexKQ |  6nzs.1.A  |  100.00  | 0.92 | 0.90 | 0.96 ± 0.05 | 01 |\n",
    "| CcDex |  6nzs.1.A  |  68.27 |  0.54 | 0.49 | 0.85 ± 0.05 | 01\n",
    "| MrDex |  6nzs.1.A\t  |  64.32 |  0.26 | 0.22 | 0.81 ± 0.05| 02\n",
    "| Isopullulanase (IPU) |  2z8g.1.A  |  100.00  |  0.99 | 0.99 |0.96 ± 0.05 | 01 |"
   ]
  },
  {
   "cell_type": "markdown",
   "id": "e2575bb2-ea6a-415c-b383-f40909a231c3",
   "metadata": {},
   "source": [
    "➡️ \n",
    "SWISS-MODEL results show that BfIMTD, DexKQ, and IPU models are highly reliable (GMQE >0.85, QMEANDisCo ≥0.9, coverage >90%), while CcDex and MrDex models are of low confidence (GMQE <0.5, coverage <60%). \n",
    "\n",
    "Therefore, only BfIMTD, DexKQ, and IPU models were considered robust for comparison with ColabFold predictions, while CcDex and MrDex need to be treated with caution."
   ]
  },
  {
   "cell_type": "markdown",
   "id": "cf8cb097-2a42-46f9-87c6-77080c94a86a",
   "metadata": {},
   "source": [
    "#### References\n",
    "1. Jumper J, Evans R, Pritzel A, Green T, Figurnov M, Ronneberger O, Tunyasuvunakool K, Bates R, Žídek A, Potapenko A, Bridgland A, Meyer C, Kohl SAA, Ballard AJ, Cowie A, Romera-Paredes B, Nikolov S, Jain R, Adler J, Back T, Petersen S, Reiman D, Clancy E, Zielinski M, Steinegger M, Pacholska M, Berghammer T, Bodenstein S, Silver D, Vinyals O, Senior AW, Kavukcuoglu K, Kohli P, Hassabis D. Highly accurate protein structure prediction with AlphaFold. Nature. 2021 Aug;596(7873):583-589. doi: 10.1038/s41586-021-03819-2. Epub 2021 Jul 15. PMID: 34265844; PMCID: PMC8371605.\n",
    "2. Mirdita M, Schütze K, Moriwaki Y, Heo L, Ovchinnikov S, Steinegger M. ColabFold: making protein folding accessible to all. Nat Methods. 2022 Jun;19(6):679-682. doi: 10.1038/s41592-022-01488-1. Epub 2022 May 30. PMID: 35637307; PMCID: PMC9184281.\n",
    "3. https://www.ebi.ac.uk/training/online/courses/alphafold/inputs-and-outputs/evaluating-alphafolds-predicted-structures-using-confidence-scores/plddt-understanding-local-confidence/"
   ]
  },
  {
   "cell_type": "code",
   "execution_count": null,
   "id": "b1c813d4-44d0-4e47-8b90-77473b3ebb59",
   "metadata": {},
   "outputs": [],
   "source": []
  },
  {
   "cell_type": "markdown",
   "id": "f04e4893-22e5-4d50-a2e4-a647353eaf53",
   "metadata": {
    "jp-MarkdownHeadingCollapsed": true
   },
   "source": [
    "**Bold text**  \n",
    "*Italic text*  \n",
    "<u>Underlined text (HTML-based)</u>  \n",
    "<mark>Highlighted text (HTML-based)</mark>  \n",
    "<span style=\"color:blue\">Blue colored text (HTML-based)</span>  \n",
    "\n",
    "---\n",
    "\n",
    "### More Examples:\n",
    "\n",
    "***Bold and italic combined***  \n",
    "~~Strikethrough (not supported natively, but can use HTML)~~  \n",
    "<s>Strikethrough using HTML</s>  \n",
    "\n",
    "[Link to github](https://www.github.com)  \n",
    "![Sample Image]()\n",
    "\n",
    "> This is a blockquote.\n",
    "\n",
    "---\n",
    "\n",
    "### Ordered List:\n",
    "1. First item  \n",
    "2. Second item  \n",
    "3. Third item  \n",
    "\n",
    "### Unordered List:\n",
    "- Item A  \n",
    "- Item B  \n",
    "  - Sub-item B.1  \n",
    "  - Sub-item B.2  \n",
    "\n",
    "---\n",
    "\n",
    "`Inline code`  "
   ]
  },
  {
   "cell_type": "markdown",
   "id": "671723f9-729d-4b6c-8fb7-c293f0ab5a82",
   "metadata": {},
   "source": [
    "deploy necessary packages on windows :\n",
    "GPU 驱动 + CUDA 11.7 ✅ 已安装\n",
    "\n",
    "cuDNN 9.1.2.0 ✅ 下载完成（假设已复制到 CUDA 目录）\n",
    "\n",
    "Conda 虚拟环境 ✅ deepfri-env 已建立并激活\n",
    "\n",
    "PyTorch + torchvision + torchaudio ✅ 成功安装 GPU 版本 .whl 包\n",
    "\n",
    "GPU 测试脚本 ✅ 输出正确，设备为 RTX 3060\n"
   ]
  },
  {
   "cell_type": "code",
   "execution_count": null,
   "id": "80180828-d0ab-4a8b-8479-5089f4fa95f1",
   "metadata": {},
   "outputs": [],
   "source": []
  }
 ],
 "metadata": {
  "kernelspec": {
   "display_name": "Python 3 (ipykernel)",
   "language": "python",
   "name": "python3"
  },
  "language_info": {
   "codemirror_mode": {
    "name": "ipython",
    "version": 3
   },
   "file_extension": ".py",
   "mimetype": "text/x-python",
   "name": "python",
   "nbconvert_exporter": "python",
   "pygments_lexer": "ipython3",
   "version": "3.10.18"
  }
 },
 "nbformat": 4,
 "nbformat_minor": 5
}
