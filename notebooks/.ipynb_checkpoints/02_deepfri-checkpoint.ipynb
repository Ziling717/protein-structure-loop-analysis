{
 "cells": [
  {
   "cell_type": "markdown",
   "id": "72c22fa9-4b90-4f71-a774-abe8bb288629",
   "metadata": {},
   "source": [
    "## 1. deepFRI"
   ]
  },
  {
   "cell_type": "markdown",
   "id": "3bf6ee58-3c12-4f88-8c09-7f7bbd222d7d",
   "metadata": {},
   "source": [
    "### 1. Deployment on windows + RTX 3060\n",
    " "
   ]
  },
  {
   "cell_type": "markdown",
   "id": "767b421d-b4ba-4806-9bf0-c8841a8ec9a4",
   "metadata": {},
   "source": [
    "#### 1.1 Systems requirements:\n",
    "- OS: windows 11 (x64)\n",
    "- GPU: nvidia RTX 3060\n",
    "- CUDA toolkit: version 11.7\n",
    "- cuDNN: version 8.9.7\n",
    "- Python: version 3.8\n",
    "  \n",
    "#### 1.2 CUDA and cuDNN installation\n",
    "- download CUDA package from cuda website and add to system PATH\n",
    "    - 'C:\\Program Files\\NVIDIA GPU Computing Toolkit\\CUDA\\v11.7\\bin'\n",
    "- download cudnn package and extract the zip, then copy the contents of bin/, lib/, and include/ into\n",
    "    - `C:\\Program Files\\NVIDIA GPU Computing Toolkit\\CUDA\\v11.7\\'\n",
    "      \n",
    "#### 1.3 conda environment setup\n",
    "- 'conda create -n deepfri-env python=3.8 -y'\n",
    "    - 'conda activate deepfri-env'\n",
    "- install PyTorch(GPU-enabled)\n",
    "    - 'pip install torch torchvision torchaudio --index-url https://download.pytorch.org/whl/cu117'\n",
    "      \n",
    "#### 1.4 verify GPU\n",
    "- type the below commands\n",
    "- ✔️expected output:\n",
    "    - 2.0.1+cu117\n",
    "    - 11.7\n",
    "    - True\n",
    "    - NVIDIA GeForce RTX 3060"
   ]
  },
  {
   "cell_type": "code",
   "execution_count": null,
   "id": "bc3525f3-2f1e-4c9a-89db-e51dc63e02c9",
   "metadata": {},
   "outputs": [],
   "source": [
    "import torch\n",
    "print(torch.__version__)\n",
    "print(torch.version.cuda)\n",
    "print(torch.cuda.is_available())\n",
    "print(torch.cuda.get_device_name(0))"
   ]
  },
  {
   "cell_type": "markdown",
   "id": "cef5f12a-8040-4369-b0bb-5b70ffa53cbf",
   "metadata": {},
   "source": [
    "#### 1.5 install deepFRI packages"
   ]
  },
  {
   "cell_type": "code",
   "execution_count": null,
   "id": "39d83e33-6d35-4500-8740-f07ceeb403c6",
   "metadata": {},
   "outputs": [],
   "source": [
    "pip install numpy pandas biopython scikit-learn matplotlib networkx tensorflow==2.9.1"
   ]
  },
  {
   "cell_type": "markdown",
   "id": "3d7192a5-9926-4ec8-9882-3138a91e3563",
   "metadata": {},
   "source": [
    "- Clone DeepFRI source code from its web https://github.com/flatironinstitute/DeepFRI\n",
    "- Put it in working directory\n",
    "- download its pretrained models: \"trained_models.tar.gz\" and extract it to the path"
   ]
  },
  {
   "cell_type": "markdown",
   "id": "5544b0b3-6fb4-4948-adca-347951b63870",
   "metadata": {},
   "source": [
    "### 2. Running DeepFRI\n",
    "#### 2.1 PDB files preparation\n",
    "- All PDB files are from Colabfold prediction. PDB files included in [results/protein_prediction/colabfold]\n",
    "- I used the **relaxed models** for the following molecular function prediction.\n",
    "- eg: \"BAA763821BfIMTD_989bc_relaxed_rank_001_alphafold2_ptm_model_1_seed_000.pdb\"\n",
    "  "
   ]
  },
  {
   "cell_type": "markdown",
   "id": "f4a3b67c-9a98-4e43-94b8-191d5210cee4",
   "metadata": {},
   "source": [
    "#### 2.2 run deepfri via pdb module\n",
    "- follow the commands of cOption 6: predicting functions of a protein from a directory with PDB files\"</span> "
   ]
  },
  {
   "cell_type": "code",
   "execution_count": null,
   "id": "72efcade-fb21-4e56-b687-5d556f24f5c0",
   "metadata": {},
   "outputs": [],
   "source": [
    ">> python predict.py --pdb_dir ./examples/pdb_files -ont mf --saliency --use_backprop"
   ]
  },
  {
   "cell_type": "markdown",
   "id": "c918c985-c3fd-4aa8-ac62-cdd1a8185d98",
   "metadata": {},
   "source": [
    "#### <mark>2.2.2 Debug 1:</mark>"
   ]
  },
  {
   "cell_type": "code",
   "execution_count": null,
   "id": "5071afb8-453a-40c0-a0c5-6a7f8c361955",
   "metadata": {},
   "outputs": [],
   "source": [
    "python predict.py -pdb \"D:\\pro_pred\\input\\BAA763821BfIMTD_989bc_unrelaxed_rank_005_alphafol.pdb\" -ont mf ec -v --saliency --use_guided_grads --output_fn_prefix \"D:\\pro_pred\\output\\BfIMTD\""
   ]
  },
  {
   "cell_type": "code",
   "execution_count": null,
   "id": "7ba03cd4-3cc2-48d0-930d-4a85b5cd0d54",
   "metadata": {},
   "outputs": [],
   "source": [
    "''' tensorflow/core/platform/cpu_feature_guard.cc:193] This TensorFlow binary is optimized with oneAPI Deep Neural Network Library (oneDNN) to use the following CPU instructions in performance-critical operations:  AVX AVX2\n",
    "To enable them in other operations, rebuild TensorFlow with the appropriate compiler flags.\n",
    "2025-08-14 10:56:37.853453: I tensorflow/core/common_runtime/gpu/gpu_device.cc:1532] Created device /job:localhost/replica:0/task:0/device:GPU:0 with 3477 MB memory:  -> device: 0, name: NVIDIA GeForce RTX 3060 Laptop GPU, pci bus id: 0000:01:00.0, compute capability: 8.6\n",
    "### Computing predictions on a single protein...\n",
    "D:\\miniconda3\\envs\\deepfri-env\\lib\\site-packages\\Bio\\SeqIO\\PdbIO.py:322: BiopythonParserWarning: 'HEADER' line not found; can't determine PDB ID.\n",
    "  warnings.warn(\n",
    "Could not locate cudnn_ops_infer64_8.dll. Please make sure it is in your library path! '''"
   ]
  },
  {
   "cell_type": "markdown",
   "id": "988b0d7a-5820-4043-896d-d27511abf3ad",
   "metadata": {},
   "source": [
    "- This hint means the model began to load and already detect GPU\n",
    "- Hearder not found is ok\n",
    "- Key probelm: **Could not locate cudnn_ops_infer64_8.dll.**\n",
    "  - solution: copy the .dll file to the right pathway (bin)\n",
    "  - I just copied all \".dll\" files to the bin folder and reopen the computer.\n",
    "  - detect situation use this command:"
   ]
  },
  {
   "cell_type": "code",
   "execution_count": null,
   "id": "594bd22e-05fa-4f74-b132-e2c9538ee13c",
   "metadata": {},
   "outputs": [],
   "source": [
    "import tensorflow as tf\n",
    "print(tf.config.list_physical_devices('GPU'))"
   ]
  },
  {
   "cell_type": "markdown",
   "id": "9d0ea00a-31d3-4e79-aa6e-62caf1438689",
   "metadata": {},
   "source": [
    "- it showed:\n",
    "[PhysicalDevice(name='/physical_device:GPU:0', device_type='GPU')],\n",
    "- which meaned the problem was solved."
   ]
  },
  {
   "cell_type": "markdown",
   "id": "27842eca-bfde-44fd-868c-9f95214619c7",
   "metadata": {},
   "source": [
    "#### 2.2.3 Rerun predict.py file to get <span style=\"color:blue\">**saliency**</span> -related predictions."
   ]
  },
  {
   "cell_type": "markdown",
   "id": "dfa2f8c2-f8ec-423f-8aa4-5c4fd324f4ea",
   "metadata": {},
   "source": [
    "- I copied all target pdb files in one folder and use it to predict them in the same batch.\n",
    "- I need saliency results for following analysis.\n",
    "- notes: the path included in the code were my previopus working directories, now all the results are moved to related folders shown in adjacent cells."
   ]
  },
  {
   "cell_type": "code",
   "execution_count": null,
   "id": "a9b37868-cf7e-49e3-9e80-0747f366c012",
   "metadata": {},
   "outputs": [],
   "source": [
    "python predict.py --pdb_dir \"/Volumes/APFS/protein_prediction/data/ColabFold/colabfold_pre_str\" -ont mf ec --saliency --use_guided_grads -v --output_fn_prefix \"/Volumes/APFS/protein_prediction/data/deepfri_viz/deepfri_output\""
   ]
  },
  {
   "cell_type": "markdown",
   "id": "21f1f37b-314a-4b01-8de4-da4e4a5bb0ba",
   "metadata": {},
   "source": [
    "- The mf and ec prediction with saliency results are included in [results/deepfri/deepfri_output]\n",
    "- Results are the following 6 files:\n",
    "    - output_dpfri_EC_pred_scores.json\n",
    "    - output_dptri_EC_predictions.csv\n",
    "    - output_dpfri_EC_saliency_maps.json\n",
    "    - output_dpfri_MF_pred_scores.json\n",
    "    - output_dpfri_MF_predictions.csv\n",
    "    - output_dpfri_MF_saliency_maps.json"
   ]
  },
  {
   "cell_type": "markdown",
   "id": "7ea428c6-437e-46f9-a58a-94c5bcf802dd",
   "metadata": {},
   "source": [
    "#### Results summary:\n",
    "##### 🧬 Residue Index Summary per Protein and GO Term\n",
    "\n",
    "| **Protein ID**         | **GO Term**     | **GO Term Name**                                             | **Residue Indices (saliency > 0.8)**                       |\n",
    "|------------------------|------------------|---------------------------------------------------------------|------------------------------------------------------------|\n",
    "| BfIMTD_relaxed_r1      | GO:0004553       | hydrolase activity, hydrolyzing O-glycosyl compounds          | 304, 303, 305, 302, 99, 100, 59, 98                        |\n",
    "|                        | GO:0005215       | transporter activity                                          | 59, 99, 100, 98, 58                                        |\n",
    "|                        | GO:0016798       | hydrolase activity, acting on glycosyl bonds                  | 304, 303, 305, 302, 99, 100, 59                            |\n",
    "|                        | GO:0022857       | transmembrane transporter activity                            | 59, 99, 100, 98, 58                                        |\n",
    "|                        | GO:0030246       | carbohydrate binding                                          | 99, 100, 304, 98, 303, 59, 58, 302, 305, 134               |\n",
    "| KQ640_relaxed_r1       | GO:0004553       | hydrolase activity, hydrolyzing O-glycosyl compounds          | 309, 310, 308, 307, 311, 332, 333                          |\n",
    "|                        | GO:0016798       | hydrolase activity, acting on glycosyl bonds                  | 308, 309, 310, 307, 311, 332                               |\n",
    "|                        | GO:0030246       | carbohydrate binding                                          | 310, 309, 308, 311, 106, 105                               |\n",
    "| MrDex719_relaxed_r1    | GO:0004553       | hydrolase activity, hydrolyzing O-glycosyl compounds          | 294, 293, 292, 137, 138, 295, 291                          |\n",
    "|                        | GO:0005215       | transporter activity                                          | 138, 137                                                   |\n",
    "|                        | GO:0016798       | hydrolase activity, acting on glycosyl bonds                  | 292, 294, 293, 295, 291, 137, 138                          |\n",
    "|                        | GO:0022857       | transmembrane transporter activity                            | 138, 137                                                   |\n",
    "|                        | GO:0030246       | carbohydrate binding                                          | 137, 138                                                   |\n",
    "| ccdex730_relaxed_r1    | GO:0004553       | hydrolase activity, hydrolyzing O-glycosyl compounds          | 145, 180, 146, 179, 147, 144                               |\n",
    "|                        | GO:0016798       | hydrolase activity, acting on glycosyl bonds                  | 145, 180, 146, 179, 147, 144                               |\n",
    "|                        | GO:0030246       | carbohydrate binding                                          | 147, 84                                                    |\n",
    "| ipu549_relaxed_r1      | GO:0004553       | hydrolase activity, hydrolyzing O-glycosyl compounds          | 57, 58, 56                                                 |\n",
    "|                        | GO:0016798       | hydrolase activity, acting on glycosyl bonds                  | 57, 58, 56                                                 |\n",
    "|                        | GO:0030246       | carbohydrate binding                                          | 58, 57, 56                                                 |"
   ]
  },
  {
   "cell_type": "markdown",
   "id": "4965ecb1-9066-443a-8cd1-2c09c6ec62f0",
   "metadata": {},
   "source": [
    "### 3. saliency Visualization"
   ]
  },
  {
   "cell_type": "markdown",
   "id": "5a241477-01a2-4b08-b3d7-efe5893d1bb3",
   "metadata": {},
   "source": [
    "#### 3.1 visualize saliency residues\n",
    "- use viz_gradCAM.py to visualize residues with high saliency\n",
    "- locate functional residues based on GO term saliency"
   ]
  },
  {
   "cell_type": "code",
   "execution_count": null,
   "id": "400ed504-326a-4019-a290-bdddc6769b18",
   "metadata": {},
   "outputs": [],
   "source": [
    "python viz_gradCAM.py -i \"D:\\pro_pred\\output\\output_dpfri_go_term\\output_dpfri_MF_saliency_maps.json\" -p query_prot -go GO:0030246"
   ]
  },
  {
   "cell_type": "markdown",
   "id": "e55c651b-9acd-40de-bf0e-c540e500b166",
   "metadata": {},
   "source": [
    "#### <mark>3.1.1 Debug 2:</mark>"
   ]
  },
  {
   "cell_type": "code",
   "execution_count": null,
   "id": "79459a8a-b8e1-4efc-ad89-c94f12925b63",
   "metadata": {},
   "outputs": [],
   "source": [
    "'''Traceback (most recent call last):\n",
    "  File \"viz_gradCAM.py\", line 142, in <module>\n",
    "    raise ValueError(\"Protein ID not in the list.\")\n",
    "ValueError: Protein ID not in the list.'''"
   ]
  },
  {
   "cell_type": "markdown",
   "id": "b88385b7-7587-44a4-ad26-58e75581ad71",
   "metadata": {},
   "source": [
    "- Key problem: it cannot recognize valid protein_id of .json due to my input query protein name, so it cannot find related saliency map.\n",
    "    - solution: clean target protein query names using the folloiwing scripts:"
   ]
  },
  {
   "cell_type": "code",
   "execution_count": null,
   "id": "c866538e-09a3-41c4-96df-05cb8c417f6a",
   "metadata": {},
   "outputs": [],
   "source": [
    "import json\n",
    "import os\n",
    "\n",
    "input_file = r\"D:\\pro_pred\\output\\output_dpfri_go_term\\output_dpfri_MF_saliency_maps.json\"\n",
    "output_file = r\"D:\\pro_pred\\output\\output_dpfri_go_term\\output_dpfri_MF_saliency_maps_cleaned.json\"\n",
    "\n",
    "with open(input_file, 'r') as f:\n",
    "    data = json.load(f)\n",
    "\n",
    "new_data = {}\n",
    "for full_path, value in data.items():\n",
    "    short_id = os.path.basename(full_path)\n",
    "    new_data[short_id] = value\n",
    "\n",
    "with open(output_file, 'w') as f:\n",
    "    json.dump(new_data, f, indent=2)\n",
    "\n",
    "print(f\"✅ Cleaned JSON saved to: {output_file}\")"
   ]
  },
  {
   "cell_type": "markdown",
   "id": "5cc114ab-e0c2-4a94-819b-e2afa0942f9a",
   "metadata": {},
   "source": [
    "- run the script to clean target names \n",
    "- cleaned file was stored  as \"output_dpfri_MF_saliency_maps_cleaned.json\" also in [results/deepfri/deepfri_output]"
   ]
  },
  {
   "cell_type": "markdown",
   "id": "30d3d345-356c-4516-81b3-8c6594dd2fbf",
   "metadata": {},
   "source": [
    "#### 3.1.2 rerun visualization script using clean json"
   ]
  },
  {
   "cell_type": "markdown",
   "id": "9f9c6ed6-7c00-4cd6-b4cf-e86fc11f3760",
   "metadata": {},
   "source": [
    "- To be convinient, I specified output pathway and modified orginal \"viz_gradCAM.py\" to \"viz_gradCAM_output_path.py\", which is inculded in [scripts]\n",
    "- run the command below to output each Go term and each enzyme's mapping saliency visialization results.\n",
    "- results are included in [results/deepfri/viz]"
   ]
  },
  {
   "cell_type": "code",
   "execution_count": null,
   "id": "90fe31d9-8335-41e0-8112-859be7762bf8",
   "metadata": {},
   "outputs": [],
   "source": [
    "python viz_gradCAM_output_path.py -i \"/Volumes/APFS/protein_prediction/protein_structure_loop_analysis/results/deepfri/deepfri_output/output_dpfri_MF_saliency_maps_cleaned.json\" -p BfIMTD_relaxed_r1 -go GO:0004553 --out_dir \"D:\\pro_pred\\output\\viz\""
   ]
  },
  {
   "cell_type": "markdown",
   "id": "b78851d7-af63-4173-bfe7-512822425672",
   "metadata": {},
   "source": [
    "#### Results summary:\n",
    "##### 🧬 Residue Index Summary per Protein and GO Term\n",
    "\n",
    "| **Protein ID**         | **GO Term**     | **GO Term Name**                                             | **Residue Indices (saliency > 0.8)**                       |\n",
    "|------------------------|------------------|---------------------------------------------------------------|------------------------------------------------------------|\n",
    "| BfIMTD_relaxed_r1      | GO:0004553       | hydrolase activity, hydrolyzing O-glycosyl compounds          | 304, 303, 305, 302, 99, 100, 59, 98                        |\n",
    "|                        | GO:0005215       | transporter activity                                          | 59, 99, 100, 98, 58                                        |\n",
    "|                        | GO:0016798       | hydrolase activity, acting on glycosyl bonds                  | 304, 303, 305, 302, 99, 100, 59                            |\n",
    "|                        | GO:0022857       | transmembrane transporter activity                            | 59, 99, 100, 98, 58                                        |\n",
    "|                        | GO:0030246       | carbohydrate binding                                          | 99, 100, 304, 98, 303, 59, 58, 302, 305, 134               |\n",
    "| KQ640_relaxed_r1       | GO:0004553       | hydrolase activity, hydrolyzing O-glycosyl compounds          | 309, 310, 308, 307, 311, 332, 333                          |\n",
    "|                        | GO:0016798       | hydrolase activity, acting on glycosyl bonds                  | 308, 309, 310, 307, 311, 332                               |\n",
    "|                        | GO:0030246       | carbohydrate binding                                          | 310, 309, 308, 311, 106, 105                               |\n",
    "| MrDex719_relaxed_r1    | GO:0004553       | hydrolase activity, hydrolyzing O-glycosyl compounds          | 294, 293, 292, 137, 138, 295, 291                          |\n",
    "|                        | GO:0005215       | transporter activity                                          | 138, 137                                                   |\n",
    "|                        | GO:0016798       | hydrolase activity, acting on glycosyl bonds                  | 292, 294, 293, 295, 291, 137, 138                          |\n",
    "|                        | GO:0022857       | transmembrane transporter activity                            | 138, 137                                                   |\n",
    "|                        | GO:0030246       | carbohydrate binding                                          | 137, 138                                                   |\n",
    "| ccdex730_relaxed_r1    | GO:0004553       | hydrolase activity, hydrolyzing O-glycosyl compounds          | 145, 180, 146, 179, 147, 144                               |\n",
    "|                        | GO:0016798       | hydrolase activity, acting on glycosyl bonds                  | 145, 180, 146, 179, 147, 144                               |\n",
    "|                        | GO:0030246       | carbohydrate binding                                          | 147, 84                                                    |\n",
    "| ipu549_relaxed_r1      | GO:0004553       | hydrolase activity, hydrolyzing O-glycosyl compounds          | 57, 58, 56                                                 |\n",
    "|                        | GO:0016798       | hydrolase activity, acting on glycosyl bonds                  | 57, 58, 56                                                 |\n",
    "|                        | GO:0030246       | carbohydrate binding                                          | 58, 57, 56                                                 |"
   ]
  },
  {
   "cell_type": "markdown",
   "id": "b5812ff8-628e-4f1a-985d-bb22c7bcf846",
   "metadata": {},
   "source": [
    "### Summary and Conclusions:"
   ]
  },
  {
   "cell_type": "markdown",
   "id": "1c2be3ea-a114-4e30-81d9-95b78b8a44ab",
   "metadata": {},
   "source": [
    "### Saliency Map analysis\n",
    "I visualized the saliency maps from deepfri predictioans for five enzymes structures across related go terms. Each saliency heatmap highlights residues most important for predicting a molecular function.\n",
    "#### 1. BfIMTD\n",
    "5 GO terms are predicted by deepfri:\n",
    "   - ① GO:0004553 and GO:0016798 are responsible for hydrolase activity, whose residues are almost the same (resi 304, 303, 305, 302, 99, 100, 59, except for 98 of 0004533).\n",
    "   - ② GO:0005215 and GO:0022857 are responsible for transporter activity, whose residues are exactly the same (resi 59, 99, 100, 98, 58).\n",
    "   - ③ GO:0030246 is responsible for carbohydrate binding (resi 99, 100, 304, 98, 303, 59, 58, 302, 305, 134), which somehow are nearly the same as the residues of GO:0004553.\n",
    "#### 2. DexKQ\n",
    "3 GO terms are predicted by deepfri:\n",
    "   - ① GO:0004553 and GO:0016798 are responsible for hydrolase activity, whose residues are almost the same (resi 304, 303, 305, 302, 99, 100, 59, except for 333 of 0004533).\n",
    "   - ② GO:0030246 is responsible for carbohydrate binding (resi 310, 309, 308, 311, 106, 105), which somehow are nearly the same as the residues of last two GO terms.\n",
    "#### 3. MrDex\n",
    "5 GO terms are predicted:\n",
    "   - ① GO:0004553 and GO:0016798 are responsible for hydrolase activity, whose residues are exactly the same (resi 294, 293, 292, 137, 138, 295, 291).\n",
    "   - ② GO:0005215 and GO:0022857 are responsible for transporter activity, whose residues are exactly the same (resi 138, 137, these two are part of the last two GO terms).\n",
    "   - ③ GO:0030246 is responsible for carbohydrate binding (resi 138, 137), which somehow are the same as the residues of GO:0005215 and GO:0022857.\n",
    "#### 4. CcDex\n",
    "3 GO terms are predicted by deepfri:\n",
    "   - ① GO:0004553 and GO:0016798 are responsible for hydrolase activity, whose residues are exactly the same (resi 145, 180, 146, 179, 147, 144).\n",
    "   - ② GO:0030246 is responsible for carbohydrate binding (resi 147, 84). resi 147 is part of hydrolase activity residues.\n",
    "#### 5. CcDex\n",
    "3 GO terms are predicted by deepfri:\n",
    "   - ① GO:0004553 and GO:0016798 are responsible for hydrolase activity, whose residues are exactly the same (resi 57, 58, 56).\n",
    "   - ② GO:0030246 is responsible for carbohydrate binding (resi 57, 58, 56), identical residues to hydrolase activity.\n",
    "#### Common GO terms\n",
    "- All predictive results from these 5 enzymes share hydrolase activity (GO:0004553 and GO:0016798) and carbohydrate binding (GO:0030246), while BfIMTD, MrDex possess transporter activity (GO:0005215 and GO:0022857).\n",
    "- This exhibits sequence, functional similarities between these 5 enzymes, especially BfIMTD and MrDex, which proves my former selection from some aspects and also shows the structural relevance between these enzymes.\n",
    "#### Abnormal situation\n"
   ]
  },
  {
   "cell_type": "markdown",
   "id": "91904be1-001c-4964-92ba-0325dba1ecee",
   "metadata": {},
   "source": [
    "![Residues exihibition]"
   ]
  }
 ],
 "metadata": {
  "kernelspec": {
   "display_name": "Python 3 (ipykernel)",
   "language": "python",
   "name": "python3"
  },
  "language_info": {
   "codemirror_mode": {
    "name": "ipython",
    "version": 3
   },
   "file_extension": ".py",
   "mimetype": "text/x-python",
   "name": "python",
   "nbconvert_exporter": "python",
   "pygments_lexer": "ipython3",
   "version": "3.10.18"
  }
 },
 "nbformat": 4,
 "nbformat_minor": 5
}
